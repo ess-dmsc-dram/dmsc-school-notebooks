{
 "cells": [
  {
   "cell_type": "code",
   "execution_count": null,
   "id": "egyptian-salvation",
   "metadata": {
    "slideshow": {
     "slide_type": ""
    },
    "tags": []
   },
   "outputs": [],
   "source": [
    "import mcstasscript as ms\n",
    "import make_QENS_instrument\n",
    "import quizlib"
   ]
  },
  {
   "cell_type": "code",
   "execution_count": null,
   "id": "consistent-shower",
   "metadata": {},
   "outputs": [],
   "source": [
    "quiz = quizlib.QENS_Quiz()"
   ]
  },
  {
   "cell_type": "markdown",
   "id": "unexpected-mandate",
   "metadata": {
    "slideshow": {
     "slide_type": ""
    },
    "tags": []
   },
   "source": [
    "# QENS exercise\n",
    "\n",
    "This notebook contains code and questions for a McStas simulation of a simplified backscattering instrument that can investigate quasi-elastic scattering from samples.\n",
    "\n",
    "Quasi-elastic scattering is inelastic scattering with small transfers and typically views a broadening of the elastic signal.\n",
    "At ESS the backscattering instrument under construction is called MIRACLES and uses an inverse time of flight technique,\n",
    "here neutrons are scattered of the sample and some hit an analyzer afterwards.\n",
    "This analyzer is angled such that the neutron is scattered almost backwards, and due to Braggs law this will happen with a given energy.\n",
    "\n",
    "It turns out the precision of that energy is highest when the neutron is scattered back in the direction it came from,\n",
    "but most instruments choose a slightly lower angle to avoid hitting the sample a second time.\n",
    "The detector is then placed slightly above or below the sample.\n",
    "\n",
    "Since the analyzer choose a specific energy, the final energy of the neutrons being recorded in the detector is known,\n",
    "this can be used to propagate the time of the neutron to the sample position.\n",
    "Then the time at that moment and the known pulse time can be used to calculate the time-of-flight,\n",
    "which with the known distance gives the speed and thus energy before scattering in the sample.\n",
    "The difference between the known initial and final energy provide the energy transfer, which for backscattering can be down to $\\mu$eV, where most other inelastic techniques look at meV.\n",
    "\n",
    "In this notebook you will get this simplified backscattering instrument and answer a few questions about the results. You will also get to improve it and run experiments with a small range of known and unknown samples.\n",
    "\n",
    "### Get the instrument object\n",
    "First we need the McStas instrument object. Here it is retrieved from a local python function that generates it."
   ]
  },
  {
   "cell_type": "code",
   "execution_count": null,
   "id": "loose-workstation",
   "metadata": {
    "slideshow": {
     "slide_type": ""
    },
    "tags": []
   },
   "outputs": [],
   "source": [
    "instrument = make_QENS_instrument.make(input_path=\"run_folder\")"
   ]
  },
  {
   "cell_type": "markdown",
   "id": "continued-thong",
   "metadata": {
    "slideshow": {
     "slide_type": ""
    },
    "tags": []
   },
   "source": [
    "## Investigate instrument\n",
    "First investigate the instrument object `instrument` using some of the available methods.\n",
    "All the methods that help do that start with the word show.\n",
    "In particular, look at what parameters are available and take a look at the instrument geometry."
   ]
  },
  {
   "cell_type": "code",
   "execution_count": null,
   "id": "conceptual-knitting",
   "metadata": {
    "slideshow": {
     "slide_type": ""
    },
    "tags": []
   },
   "outputs": [],
   "source": [
    "instrument.show_parameters()"
   ]
  },
  {
   "cell_type": "code",
   "execution_count": null,
   "id": "4b460d90-2d7f-4191-a132-5d5cd5dec08e",
   "metadata": {
    "slideshow": {
     "slide_type": ""
    },
    "tags": [
     "remove-cell",
     "dmsc-school-keep"
    ]
   },
   "outputs": [],
   "source": [
    "instrument.show_instrument()"
   ]
  },
  {
   "cell_type": "markdown",
   "id": "featured-replica",
   "metadata": {
    "slideshow": {
     "slide_type": ""
    },
    "tags": []
   },
   "source": [
    "## Set parameters\n",
    "\n",
    "Before running the instrument we need to set some parameters.\n",
    "The most important one is the `sample_distance` parameter describing the distance between the source and the sample.\n",
    "Given the need for high precision in determining the energy of the neutron, which of the following instrument lengths should be chosen?\n",
    "\n",
    "- A: 30 m\n",
    "- B: 60 m\n",
    "- C: 150 m"
   ]
  },
  {
   "cell_type": "code",
   "execution_count": null,
   "id": "disciplinary-statistics",
   "metadata": {
    "slideshow": {
     "slide_type": ""
    },
    "tags": [
     "hide-output"
    ]
   },
   "outputs": [],
   "source": [
    "quiz.question_1()"
   ]
  },
  {
   "cell_type": "markdown",
   "id": "computational-reform",
   "metadata": {
    "slideshow": {
     "slide_type": ""
    },
    "tags": []
   },
   "source": [
    "Set the `sample_distance` corresponding to the answer above and set the simulated energy width to 5 $\\mu$eV.\n",
    "Keep the sample type to `Elastic` and number of pulses to 1. Use the `set_parameters` method on the instrument object."
   ]
  },
  {
   "cell_type": "code",
   "execution_count": null,
   "metadata": {},
   "outputs": [],
   "source": [
    "# Insert your solution:\n"
   ]
  },
  {
   "cell_type": "code",
   "execution_count": null,
   "id": "black-haven",
   "metadata": {
    "slideshow": {
     "slide_type": ""
    },
    "tags": [
     "hide-output"
    ]
   },
   "outputs": [],
   "source": [
    "# Validate the instrument by giving it to the question_2\n",
    "quiz.question_2(instrument)"
   ]
  },
  {
   "cell_type": "markdown",
   "id": "identified-reception",
   "metadata": {},
   "source": [
    "## Instrument settings\n",
    "Before running the simulation a few settings pertaining to the technical side should be set. These use a different method to clearly distinguish them from the instrument parameters. One important parameter is called `output_path` which sets the name of the generated folder."
   ]
  },
  {
   "cell_type": "code",
   "execution_count": null,
   "id": "ff5538d6-5fc8-4ee5-bc12-9f983db01ba1",
   "metadata": {
    "slideshow": {
     "slide_type": ""
    },
    "tags": []
   },
   "outputs": [],
   "source": [
    "instrument.settings(ncount=5e7, mpi=4, suppress_output=True, NeXus=True, output_path=\"first_run\")"
   ]
  },
  {
   "cell_type": "markdown",
   "id": "painful-contributor",
   "metadata": {
    "slideshow": {
     "slide_type": ""
    },
    "tags": []
   },
   "source": [
    "## Run the simulation\n",
    "\n",
    "Now the simulation can be executed with the backengine method. Store the returned data in a python variable called `data`."
   ]
  },
  {
   "cell_type": "code",
   "execution_count": null,
   "metadata": {},
   "outputs": [],
   "source": [
    "# Insert your solution:\n"
   ]
  },
  {
   "cell_type": "code",
   "execution_count": null,
   "id": "together-framing",
   "metadata": {
    "slideshow": {
     "slide_type": ""
    },
    "tags": []
   },
   "outputs": [],
   "source": [
    "ms.make_sub_plot(data, figsize=(9.5, 8), log=False, orders_of_mag=3)"
   ]
  },
  {
   "cell_type": "markdown",
   "id": "occasional-spouse",
   "metadata": {
    "slideshow": {
     "slide_type": ""
    },
    "tags": []
   },
   "source": [
    "### Explanation of data\n",
    "\n",
    "The data is all from a He3 tube which can only be reached from the sample by being scattered almost backwards from a Si analyzer crystal.\n",
    "Two 1D monitors show the spatial and time distribution of the signal respectively.\n",
    "The two 2D monitors show the correlation between time and position, though one will zoom out to capture multiple pulses if `n_pulse` is set to more than one.\n",
    "\n",
    "### Questions\n",
    "\n",
    "Look at the time distribution of the signal, which statement about this data is true?\n",
    "\n",
    "- A: The data looks like a typical inelastic signal\n",
    "- B: The data looks like the ESS pulse structure\n",
    "- C: The data looks like a typical elastic signal\n",
    "- D: The data looks like the analyzer selected to broad an energy range"
   ]
  },
  {
   "cell_type": "code",
   "execution_count": null,
   "id": "outside-romania",
   "metadata": {
    "slideshow": {
     "slide_type": ""
    },
    "tags": [
     "hide-output"
    ]
   },
   "outputs": [],
   "source": [
    "quiz.question_3()"
   ]
  },
  {
   "cell_type": "markdown",
   "id": "smart-disclosure",
   "metadata": {
    "slideshow": {
     "slide_type": ""
    },
    "tags": []
   },
   "source": [
    "Is this a problem for a backscattering instrument?\n",
    "- A: Yes, the low time resolution means low energy resolution\n",
    "- B: No, the low time resolution is not necessary for high energy resolution"
   ]
  },
  {
   "cell_type": "code",
   "execution_count": null,
   "id": "addressed-council",
   "metadata": {
    "slideshow": {
     "slide_type": ""
    },
    "tags": [
     "hide-output"
    ]
   },
   "outputs": [],
   "source": [
    "quiz.question_4()"
   ]
  },
  {
   "cell_type": "markdown",
   "id": "arranged-compression",
   "metadata": {
    "slideshow": {
     "slide_type": ""
    },
    "tags": []
   },
   "source": [
    "How can the instrument be improved? \n",
    "- A: Add a chopper to control the time aspect\n",
    "- B: Add a slit before sample to reduce the illuminated area\n",
    "- C: Add a slit before analyzer to ensure same angle\n",
    "- D: Add a spin polarizer to select spin state"
   ]
  },
  {
   "cell_type": "code",
   "execution_count": null,
   "id": "legislative-adolescent",
   "metadata": {
    "slideshow": {
     "slide_type": ""
    },
    "tags": [
     "hide-output"
    ]
   },
   "outputs": [],
   "source": [
    "quiz.question_5()"
   ]
  },
  {
   "cell_type": "markdown",
   "id": "proved-rally",
   "metadata": {
    "slideshow": {
     "slide_type": ""
    },
    "tags": []
   },
   "source": [
    "## Improve the instrument\n",
    "\n",
    "In order to improve the performance of the instrument, we will add a McStas component.\n",
    "The first aspect to consider when doing so is where to place it, both in the component sequence and its physical location.\n",
    "We start by looking at the code sequence.\n",
    "\n",
    "### McStas sequence \n",
    "\n",
    "Use either the `show_diagram` or `show_components` method on the instrument object to get an overview of the component sequence in the instrument.\n",
    "Where would you place the new component?\n",
    "\n",
    "- A: After the source\n",
    "- B: Before the sample position\n",
    "- C: After the sample position\n",
    "- D: After the analyzer"
   ]
  },
  {
   "cell_type": "code",
   "execution_count": null,
   "metadata": {},
   "outputs": [],
   "source": [
    "# Insert your solution:\n"
   ]
  },
  {
   "cell_type": "code",
   "execution_count": null,
   "id": "diverse-permit",
   "metadata": {
    "slideshow": {
     "slide_type": ""
    },
    "tags": [
     "hide-output"
    ]
   },
   "outputs": [],
   "source": [
    "quiz.question_6()"
   ]
  },
  {
   "cell_type": "markdown",
   "id": "german-garlic",
   "metadata": {
    "slideshow": {
     "slide_type": ""
    },
    "tags": []
   },
   "source": [
    "### Which component\n",
    "\n",
    "Now we need to select what type of component to add to the instrument, here we will need the `DiskChopper` component.\n",
    "Use the `component_help` method on the instrument to learn more about this component."
   ]
  },
  {
   "cell_type": "code",
   "execution_count": null,
   "metadata": {},
   "outputs": [],
   "source": [
    "# Insert your solution:\n"
   ]
  },
  {
   "cell_type": "markdown",
   "id": "floral-cleaning",
   "metadata": {
    "slideshow": {
     "slide_type": ""
    },
    "tags": []
   },
   "source": [
    "### Chopper calculations\n",
    "\n",
    "When adding a chopper one need to perform some calculations on delay and frequency.\n",
    "For this exercise, those calculations can be added to the instrument using a function in this folder"
   ]
  },
  {
   "cell_type": "code",
   "execution_count": null,
   "id": "infectious-agreement",
   "metadata": {
    "slideshow": {
     "slide_type": ""
    }
   },
   "outputs": [],
   "source": [
    "make_QENS_instrument.add_chopper_code(instrument)"
   ]
  },
  {
   "cell_type": "markdown",
   "id": "civil-explorer",
   "metadata": {
    "slideshow": {
     "slide_type": ""
    },
    "tags": []
   },
   "source": [
    "To see what variables are used in the instrument, one can use the `show_variables` method like below."
   ]
  },
  {
   "cell_type": "code",
   "execution_count": null,
   "metadata": {},
   "outputs": [],
   "source": [
    "# Insert your solution:\n"
   ]
  },
  {
   "cell_type": "markdown",
   "id": "referenced-context",
   "metadata": {
    "slideshow": {
     "slide_type": ""
    },
    "tags": []
   },
   "source": [
    "### Add chopper component and set parameters\n",
    "\n",
    "Use the `add_component` method on the instrument to add a chopper.\n",
    "Place it in the component sequence by using either the `before` or `after` keyword argument.\n",
    "\n",
    "Set the parameters:\n",
    "\n",
    "- `yheight`: 0.05 m\n",
    "- `radius`: 0.7 m\n",
    "- `nslit`: 1.0\n",
    "- `nu`, `delay` and `theta_0`: To the variables calculated in the instrument (use quotation marks)"
   ]
  },
  {
   "cell_type": "code",
   "execution_count": null,
   "metadata": {},
   "outputs": [],
   "source": [
    "# Insert your solution:\n"
   ]
  },
  {
   "cell_type": "code",
   "execution_count": null,
   "id": "southeast-smart",
   "metadata": {
    "slideshow": {
     "slide_type": ""
    },
    "tags": [
     "hide-output"
    ]
   },
   "outputs": [],
   "source": [
    "# Validate the instrument again\n",
    "quiz.question_7(instrument)"
   ]
  },
  {
   "cell_type": "markdown",
   "id": "labeled-connection",
   "metadata": {
    "slideshow": {
     "slide_type": ""
    },
    "tags": []
   },
   "source": [
    "### Placing the component in space\n",
    "\n",
    "The next physical location of the component need to be specified, which is done using the `set_AT` component.\n",
    "This method takes a list of 3 numbers, corresponding to the `x`, `y` and `z` coordinates of the component.\n",
    "\n",
    "One can also specify in what coordinate system one wants to work, which can be that of any preceeding component.\n",
    "Use the `RELATIVE` keyword to work in the `source` coordinate system.\n",
    "The position of the chopper is needed for calculating phase, so it is available as a variable in the instrument, use this variable to set the position."
   ]
  },
  {
   "cell_type": "code",
   "execution_count": null,
   "metadata": {},
   "outputs": [],
   "source": [
    "# Insert your solution:\n"
   ]
  },
  {
   "cell_type": "code",
   "execution_count": null,
   "id": "lovely-miller",
   "metadata": {
    "slideshow": {
     "slide_type": ""
    },
    "tags": [
     "hide-output"
    ]
   },
   "outputs": [],
   "source": [
    "quiz.question_8(instrument)"
   ]
  },
  {
   "cell_type": "markdown",
   "id": "surgical-mathematics",
   "metadata": {
    "slideshow": {
     "slide_type": ""
    },
    "tags": []
   },
   "source": [
    "### Verify new component\n",
    "\n",
    "Now that the chopper has been added to the instrument, lets show the component sequence again to verify it was added correctly."
   ]
  },
  {
   "cell_type": "code",
   "execution_count": null,
   "metadata": {},
   "outputs": [],
   "source": [
    "# Insert your solution:\n"
   ]
  },
  {
   "cell_type": "markdown",
   "id": "intensive-billy",
   "metadata": {
    "slideshow": {
     "slide_type": ""
    },
    "tags": []
   },
   "source": [
    "## Run improved instrument\n",
    "\n",
    "Run the improved instrument with the following parameters:\n",
    "\n",
    "- `sample_distance`: 150 m\n",
    "- `energy_width_ueV`: 5 ueV\n",
    "- `sample_choice`: '\"Elastic\"'\n",
    "- `frequency_multiplier`: 10 (This controls the ratio between chopper and source frequency)\n",
    "\n",
    "Use the `settings` method to set a reasonable name, including the sample type and number of pulses currently used.\n",
    "\n",
    "Store the resulting data in a variable called `data_improved`."
   ]
  },
  {
   "cell_type": "code",
   "execution_count": null,
   "metadata": {},
   "outputs": [],
   "source": [
    "# Insert your solution:\n"
   ]
  },
  {
   "cell_type": "markdown",
   "id": "multiple-balance",
   "metadata": {
    "tags": [
     "remove-cell",
     "dmsc-school-keep"
    ]
   },
   "source": [
    "We will be reading values of the produced graphs, in those cases the %matplotlib widget mode helps as it provides information on the cursor position over the graphs."
   ]
  },
  {
   "cell_type": "code",
   "execution_count": null,
   "id": "liberal-venezuela",
   "metadata": {
    "tags": [
     "remove-cell",
     "dmsc-school-keep"
    ]
   },
   "outputs": [],
   "source": [
    "# %matplotlib widget"
   ]
  },
  {
   "cell_type": "code",
   "execution_count": null,
   "id": "amazing-easter",
   "metadata": {
    "slideshow": {
     "slide_type": ""
    },
    "tags": []
   },
   "outputs": [],
   "source": [
    "ms.make_sub_plot(data_improved, figsize=(9.5, 8), log=False, orders_of_mag=4)"
   ]
  },
  {
   "cell_type": "markdown",
   "id": "loose-terminal",
   "metadata": {
    "slideshow": {
     "slide_type": ""
    },
    "tags": []
   },
   "source": [
    "### Time resolution\n",
    "\n",
    "- Q: What is the time resolution of the instrument? (at multiplier=10, FWHM)\n",
    "- A: 0.246 ms"
   ]
  },
  {
   "cell_type": "code",
   "execution_count": null,
   "id": "global-arbitration",
   "metadata": {
    "slideshow": {
     "slide_type": ""
    },
    "tags": [
     "hide-output"
    ]
   },
   "outputs": [],
   "source": [
    "quiz.question_9()"
   ]
  },
  {
   "cell_type": "markdown",
   "id": "lasting-breakfast",
   "metadata": {
    "slideshow": {
     "slide_type": ""
    },
    "tags": []
   },
   "source": [
    "### Run with known calibration sample\n",
    "\n",
    "We know run with a known calibration sample, its energy width can be adjusted with the gamma_ueV (HWHM).\n",
    "Run with the following parameters:\n",
    "\n",
    "- `sample_choice`: '\"Known_quasi-elastic\"'\n",
    "- `gamma_ueV`: 12 ueV\n",
    "- `energy_width_ueV`: 150 ueV\n",
    "\n",
    "Again set a descriptive name, call the produced data `data_known`."
   ]
  },
  {
   "cell_type": "code",
   "execution_count": null,
   "metadata": {},
   "outputs": [],
   "source": [
    "# Insert your solution:\n"
   ]
  },
  {
   "cell_type": "code",
   "execution_count": null,
   "id": "indirect-career",
   "metadata": {
    "slideshow": {
     "slide_type": ""
    },
    "tags": []
   },
   "outputs": [],
   "source": [
    "ms.make_sub_plot(data_known, figsize=(9.5, 8), log=False, orders_of_mag=4)"
   ]
  },
  {
   "cell_type": "markdown",
   "id": "structured-argument",
   "metadata": {
    "slideshow": {
     "slide_type": ""
    },
    "tags": []
   },
   "source": [
    "What is the time width when using a known sample with 12 ueV broadening? Insert the answer with units of seconds."
   ]
  },
  {
   "cell_type": "code",
   "execution_count": null,
   "id": "western-financing",
   "metadata": {
    "tags": [
     "hide-output"
    ]
   },
   "outputs": [],
   "source": [
    "quiz.question_10()"
   ]
  },
  {
   "cell_type": "markdown",
   "id": "greater-edinburgh",
   "metadata": {
    "slideshow": {
     "slide_type": ""
    },
    "tags": []
   },
   "source": [
    "### Run with unknown sample\n",
    "\n",
    "- `sample_choice`: `\"Unknown_quasi-elastic\"`\n",
    "- `energy_width_ueV`: 150 ueV\n",
    "\n",
    "Again set a descriptive name, call the produced data `data_unknown`."
   ]
  },
  {
   "cell_type": "code",
   "execution_count": null,
   "id": "addressed-stretch",
   "metadata": {
    "slideshow": {
     "slide_type": ""
    },
    "tags": []
   },
   "outputs": [],
   "source": [
    "instrument.settings(\n",
    "    output_path=\"QENS_unknown_quasi_elastic_1_pulse\",\n",
    ")\n",
    "\n",
    "instrument.set_parameters(\n",
    "    energy_width_ueV=150,\n",
    "    sample_choice='\"Unknown_quasi-elastic\"',\n",
    "    n_pulses=1,\n",
    "    frequency_multiplier=10,\n",
    ")\n",
    "\n",
    "data_unknown = instrument.backengine()"
   ]
  },
  {
   "cell_type": "code",
   "execution_count": null,
   "id": "willing-wells",
   "metadata": {
    "slideshow": {
     "slide_type": ""
    },
    "tags": []
   },
   "outputs": [],
   "source": [
    "ms.make_sub_plot(data_unknown, figsize=(9.5, 8), log=False, orders_of_mag=4)"
   ]
  },
  {
   "cell_type": "markdown",
   "id": "af04855a-e7e8-4275-aa5e-e65f63b40235",
   "metadata": {
    "slideshow": {
     "slide_type": ""
    },
    "tags": []
   },
   "source": [
    "## Increase the number of pulses\n",
    "\n",
    "Your final task is to re-run the simulations for the 3 different samples, using 3 pulses instead of 1. We will use this data in the exercises for the rest of the week.\n",
    "\n",
    "**Hints:**\n",
    "\n",
    "- Change the destination folder so that you don't overwrite the results from the 1-pulse simulations.\n",
    "- Remember to adjust the `ncount` accordingly, we would like 3 times more rays now that we use 3 pulses."
   ]
  },
  {
   "cell_type": "markdown",
   "id": "9329eb8d-5b0f-4315-ae32-79af3cdd3a08",
   "metadata": {
    "slideshow": {
     "slide_type": ""
    },
    "tags": []
   },
   "source": [
    "**Solution:**"
   ]
  },
  {
   "cell_type": "code",
   "execution_count": null,
   "metadata": {},
   "outputs": [],
   "source": [
    "# Insert your solution:\n"
   ]
  }
 ],
 "metadata": {
  "celltoolbar": "Tags",
  "kernelspec": {
   "display_name": "Python 3 (ipykernel)",
   "language": "python",
   "name": "python3"
  },
  "language_info": {
   "codemirror_mode": {
    "name": "ipython",
    "version": 3
   },
   "file_extension": ".py",
   "mimetype": "text/x-python",
   "name": "python",
   "nbconvert_exporter": "python",
   "pygments_lexer": "ipython3",
   "version": "3.9.13"
  }
 },
 "nbformat": 4,
 "nbformat_minor": 5
}
