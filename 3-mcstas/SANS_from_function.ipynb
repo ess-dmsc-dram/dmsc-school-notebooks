{
 "cells": [
  {
   "cell_type": "code",
   "execution_count": null,
   "id": "egyptian-salvation",
   "metadata": {
    "slideshow": {
     "slide_type": ""
    },
    "tags": [],
    "editable": false
   },
   "outputs": [],
   "source": [
    "import mcstasscript as ms\n",
    "import make_SANS_instrument\n",
    "import quizlib"
   ]
  },
  {
   "cell_type": "code",
   "execution_count": null,
   "id": "obvious-meeting",
   "metadata": {
    "editable": false
   },
   "outputs": [],
   "source": [
    "quiz = quizlib.SANS_Quiz()"
   ]
  },
  {
   "cell_type": "markdown",
   "id": "unexpected-mandate",
   "metadata": {
    "slideshow": {
     "slide_type": ""
    },
    "tags": [],
    "editable": false
   },
   "source": [
    "# SANS exercise\n",
    "\n",
    "\n",
    "In this notebook you will get this simplified SANS instrument and answer a few questions about the results.\n",
    "You will also get to improve it and run experiments both with and without a sample.\n",
    "\n",
    "SANS is an abbreviation for Small Angle Neutron Scattering, and as the name suggests is concerned with the scattered signal at very small angles.\n",
    "Here we will look at a sample in solution composed of some simple geometry, which will cause an interesting scattering pattern on the detector.\n",
    "\n",
    "### Get the instrument object\n",
    "First we need the McStas instrument object. Here it is retrieved from a local python function that generates it."
   ]
  },
  {
   "cell_type": "code",
   "execution_count": null,
   "id": "loose-workstation",
   "metadata": {
    "slideshow": {
     "slide_type": ""
    },
    "tags": [],
    "editable": false
   },
   "outputs": [],
   "source": [
    "instrument = make_SANS_instrument.make(input_path=\"run_folder\")"
   ]
  },
  {
   "cell_type": "markdown",
   "id": "continued-thong",
   "metadata": {
    "slideshow": {
     "slide_type": ""
    },
    "tags": [],
    "editable": false
   },
   "source": [
    "## Investigate instrument\n",
    "First investigate the instrument object `instrument` using some of the available methods.\n",
    "All the methods that help do that start with the word show.\n",
    "In particular, look at what parameters are available and take a look at the instrument geometry."
   ]
  },
  {
   "cell_type": "code",
   "execution_count": null,
   "id": "conceptual-knitting",
   "metadata": {
    "slideshow": {
     "slide_type": ""
    },
    "tags": [],
    "editable": false
   },
   "outputs": [],
   "source": [
    "instrument.show_parameters()"
   ]
  },
  {
   "cell_type": "code",
   "execution_count": null,
   "id": "secret-surrey",
   "metadata": {
    "slideshow": {
     "slide_type": ""
    },
    "tags": [
     "remove-cell",
     "dmsc-school-keep"
    ],
    "editable": false
   },
   "outputs": [],
   "source": [
    "instrument.show_instrument()"
   ]
  },
  {
   "cell_type": "markdown",
   "id": "scientific-earthquake",
   "metadata": {
    "slideshow": {
     "slide_type": ""
    },
    "tags": [],
    "editable": false
   },
   "source": [
    "## Set parameters\n",
    "\n",
    "Before running the instrument we need to set some parameters.\n",
    "The most important one is the `detector_distance` parameter describing the distance between the sample and the detector.\n",
    "Given the need for high angular precision in determining the scattering angle of the neutron, which of these would be best?\n",
    "\n",
    "- A: 1 m\n",
    "- B: 2 m\n",
    "- C: 3 m\n",
    "\n",
    "Could instead have question on wavelength band to test time of flight knowledge."
   ]
  },
  {
   "cell_type": "code",
   "execution_count": null,
   "id": "separate-madonna",
   "metadata": {
    "slideshow": {
     "slide_type": ""
    },
    "tags": [
     "hide-output"
    ],
    "editable": false
   },
   "outputs": [],
   "source": [
    "quiz.question_1()"
   ]
  },
  {
   "cell_type": "markdown",
   "id": "drawn-belarus",
   "metadata": {
    "slideshow": {
     "slide_type": ""
    },
    "tags": [],
    "editable": false
   },
   "source": [
    "Set the parameters of the instrument using the `set_parameters` method.\n",
    "- sample_distance: 150 m\n",
    "- wavelength: 6 \u00c5\n",
    "- wavelength band: 1.5 \u00c5\n",
    "- enable_sample: 0\n",
    "- n_pulses: 1"
   ]
  },
  {
   "cell_type": "code",
   "execution_count": null,
   "id": "southeast-weight",
   "metadata": {
    "slideshow": {
     "slide_type": ""
    },
    "tags": [
     "workbook"
    ]
   },
   "outputs": [],
   "source": [
    "# Insert your solution:\n"
   ]
  },
  {
   "cell_type": "code",
   "execution_count": null,
   "id": "moved-injury",
   "metadata": {
    "tags": [
     "hide-output"
    ],
    "editable": false
   },
   "outputs": [],
   "source": [
    "# Test your instrument by giving it to the question_2\n",
    "quiz.question_2(instrument)"
   ]
  },
  {
   "cell_type": "markdown",
   "id": "bored-basin",
   "metadata": {
    "editable": false
   },
   "source": [
    "## Instrument settings\n",
    "Before running the simulation a few settings pertaining to the technical side should be set. These use a different method to clearly distinguish them from the instrument parameters. One important parameter is called `output_path` which sets the name of the generated folder."
   ]
  },
  {
   "cell_type": "code",
   "execution_count": null,
   "id": "infrared-major",
   "metadata": {
    "slideshow": {
     "slide_type": ""
    },
    "tags": [],
    "editable": false
   },
   "outputs": [],
   "source": [
    "instrument.settings(ncount=5e6, mpi=4, suppress_output=True, NeXus=True, output_path=\"first_run\")"
   ]
  },
  {
   "cell_type": "markdown",
   "id": "featured-replica",
   "metadata": {
    "slideshow": {
     "slide_type": ""
    },
    "tags": [],
    "editable": false
   },
   "source": [
    "## Run the instrument\n",
    "Now the simulation can be executed with the `backengine` method. Store the returned data in a python variable called `data`."
   ]
  },
  {
   "cell_type": "code",
   "execution_count": null,
   "id": "addressed-mexican",
   "metadata": {
    "slideshow": {
     "slide_type": ""
    },
    "tags": [
     "workbook"
    ]
   },
   "outputs": [],
   "source": [
    "# Insert your solution:\n"
   ]
  },
  {
   "cell_type": "code",
   "execution_count": null,
   "id": "controversial-wilderness",
   "metadata": {
    "slideshow": {
     "slide_type": ""
    },
    "tags": [],
    "editable": false
   },
   "outputs": [],
   "source": [
    "ms.make_plot(data, figsize=(7, 5), log=True, orders_of_mag=5)"
   ]
  },
  {
   "cell_type": "markdown",
   "id": "intermediate-isaac",
   "metadata": {
    "slideshow": {
     "slide_type": ""
    },
    "tags": [],
    "editable": false
   },
   "source": [
    "### Interpretation of the data\n",
    "The detector is a He3 tube centered 25 cm above the beam height and with a metal casing. \n",
    "\n",
    "What does the signal look like without sample?\n",
    "- A: Most of the signal close to the direct beam\n",
    "- B: Flat signal over detector height \n",
    "- C: Most of the signal is far away from the direct beam"
   ]
  },
  {
   "cell_type": "code",
   "execution_count": null,
   "id": "worst-lease",
   "metadata": {
    "slideshow": {
     "slide_type": ""
    },
    "tags": [
     "hide-output"
    ],
    "editable": false
   },
   "outputs": [],
   "source": [
    "quiz.question_3()"
   ]
  },
  {
   "cell_type": "markdown",
   "id": "minute-separation",
   "metadata": {
    "slideshow": {
     "slide_type": ""
    },
    "tags": [],
    "editable": false
   },
   "source": [
    "Is this a problem for a SANS instrument?\n",
    "- A: Yes\n",
    "- B: No"
   ]
  },
  {
   "cell_type": "code",
   "execution_count": null,
   "id": "substantial-activity",
   "metadata": {
    "slideshow": {
     "slide_type": ""
    },
    "tags": [
     "hide-output"
    ],
    "editable": false
   },
   "outputs": [],
   "source": [
    "quiz.question_4()"
   ]
  },
  {
   "cell_type": "markdown",
   "id": "continued-gazette",
   "metadata": {
    "slideshow": {
     "slide_type": ""
    },
    "tags": [],
    "editable": false
   },
   "source": [
    "How can it be improved?\n",
    "- A: By adding a Velocity selector\n",
    "- B: By adding a Chopper\n",
    "- C: By adding a Beamstop\n",
    "- D: By adding a Slit"
   ]
  },
  {
   "cell_type": "code",
   "execution_count": null,
   "id": "alpine-kuwait",
   "metadata": {
    "slideshow": {
     "slide_type": ""
    },
    "tags": [
     "hide-output"
    ],
    "editable": false
   },
   "outputs": [],
   "source": [
    "quiz.question_5()"
   ]
  },
  {
   "cell_type": "markdown",
   "id": "substantial-navigation",
   "metadata": {
    "slideshow": {
     "slide_type": ""
    },
    "tags": [],
    "editable": false
   },
   "source": [
    "## Improve the instrument\n",
    "\n",
    "In order to improve the performance of the instrument, we will add a McStas component.\n",
    "The first aspect to consider when doing so is where to place it, both in the component sequence and its physical location.\n",
    "We start by looking at the code sequence.\n",
    "\n",
    "### McStas sequence \n",
    "\n",
    "Use either the `show_diagram` or `show_components` method on the instrument object to get an overview of the component sequence in the instrument.\n",
    "Where would you place the new component?\n",
    "\n",
    "- A: After the source\n",
    "- B: Before the sample position\n",
    "- C: After the sample position\n",
    "- D: Before the detector position"
   ]
  },
  {
   "cell_type": "code",
   "execution_count": null,
   "id": "composite-difference",
   "metadata": {
    "slideshow": {
     "slide_type": ""
    },
    "tags": [
     "workbook"
    ]
   },
   "outputs": [],
   "source": [
    "# Insert your solution:\n"
   ]
  },
  {
   "cell_type": "code",
   "execution_count": null,
   "id": "religious-equality",
   "metadata": {
    "slideshow": {
     "slide_type": ""
    },
    "tags": [
     "hide-output"
    ],
    "editable": false
   },
   "outputs": [],
   "source": [
    "quiz.question_6()"
   ]
  },
  {
   "cell_type": "markdown",
   "id": "authorized-recovery",
   "metadata": {
    "slideshow": {
     "slide_type": ""
    },
    "tags": [],
    "editable": false
   },
   "source": [
    "### Which component\n",
    "\n",
    "Now we need to select what type of component to add to the instrument, here we will need the `Beamstop` component.\n",
    "Use the `component_help` method on the instrument to learn more about this component."
   ]
  },
  {
   "cell_type": "code",
   "execution_count": null,
   "id": "recent-asian",
   "metadata": {
    "slideshow": {
     "slide_type": ""
    },
    "tags": [
     "workbook"
    ]
   },
   "outputs": [],
   "source": [
    "# Insert your solution:\n"
   ]
  },
  {
   "cell_type": "markdown",
   "id": "young-liquid",
   "metadata": {
    "slideshow": {
     "slide_type": ""
    },
    "tags": [],
    "editable": false
   },
   "source": [
    "### Add beamstop component and set parameters\n",
    "\n",
    "Use the `add_component` method on the instrument to add a chopper.\n",
    "Place it in the component sequence by using either the `before` or `after` keyword arguments.\n",
    "\n",
    "Set the parameters:\n",
    "- `xwidth`: 0.1 m\n",
    "- `yheight`: 0.02 m"
   ]
  },
  {
   "cell_type": "code",
   "execution_count": null,
   "id": "built-venezuela",
   "metadata": {
    "slideshow": {
     "slide_type": ""
    },
    "tags": [
     "workbook"
    ]
   },
   "outputs": [],
   "source": [
    "# Insert your solution:\n"
   ]
  },
  {
   "cell_type": "code",
   "execution_count": null,
   "id": "lesser-retrieval",
   "metadata": {
    "slideshow": {
     "slide_type": ""
    },
    "tags": [
     "hide-output"
    ],
    "editable": false
   },
   "outputs": [],
   "source": [
    "# Validate instrument again\n",
    "quiz.question_7(instrument)"
   ]
  },
  {
   "cell_type": "markdown",
   "id": "engaging-terminal",
   "metadata": {
    "slideshow": {
     "slide_type": ""
    },
    "tags": [],
    "editable": false
   },
   "source": [
    "### Placing the component in space\n",
    "\n",
    "The next physical location of the component need to be specified, which is done using the `set_AT` component.\n",
    "This method takes a list of 3 numbers, corresponding to the `x`, `y` and `z` coordinates of the component.\n",
    "\n",
    "One can also specify in what coordinate system one wants to work, which can be that of any preceding component.\n",
    "Use the `RELATIVE` keyword to work in the `sample_position` coordinate system. The instrument has a parameter called `detector_distance`, use this to place the beamstop 90% of the way from the sample to the detector."
   ]
  },
  {
   "cell_type": "code",
   "execution_count": null,
   "id": "overhead-marriage",
   "metadata": {
    "slideshow": {
     "slide_type": ""
    },
    "tags": [
     "workbook"
    ]
   },
   "outputs": [],
   "source": [
    "# Insert your solution:\n"
   ]
  },
  {
   "cell_type": "code",
   "execution_count": null,
   "id": "acute-depression",
   "metadata": {
    "slideshow": {
     "slide_type": ""
    },
    "tags": [
     "hide-output"
    ],
    "editable": false
   },
   "outputs": [],
   "source": [
    "quiz.question_8(instrument)"
   ]
  },
  {
   "cell_type": "markdown",
   "id": "thick-precipitation",
   "metadata": {
    "slideshow": {
     "slide_type": ""
    },
    "tags": [],
    "editable": false
   },
   "source": [
    "### Verify new component\n",
    "Now that the chopper has been added to the instrument, lets show the component sequence again to verify it was added correctly."
   ]
  },
  {
   "cell_type": "code",
   "execution_count": null,
   "id": "original-carnival",
   "metadata": {
    "slideshow": {
     "slide_type": ""
    },
    "tags": [],
    "editable": false
   },
   "outputs": [],
   "source": [
    "instrument.show_diagram()"
   ]
  },
  {
   "cell_type": "markdown",
   "id": "narrow-dealing",
   "metadata": {
    "slideshow": {
     "slide_type": ""
    },
    "tags": [],
    "editable": false
   },
   "source": [
    "## Run improved instrument\n",
    "\n",
    "Run the improved instrument with the following parameters:\n",
    "\n",
    "- `sample_distance`: 150 m\n",
    "- `d_wavelength`: 1.5 \u00c5\n",
    "- `enable_sample`: 0\n",
    "- `n_pulses`: 1\n",
    "- `integration_time`: 5E4 s\n",
    "\n",
    "We set a long integration time as this corresponds to a calibration run done just once, and by running this for a longer time the statistical error will be smaller.\n",
    "\n",
    "Store the returned data in a variable called `background_data`. Call the generated data folder \"SANS_without_sample_1_pulse\" using the *output_path* argument in the `settings` method of the instrument."
   ]
  },
  {
   "cell_type": "code",
   "execution_count": null,
   "id": "genuine-plant",
   "metadata": {
    "slideshow": {
     "slide_type": ""
    },
    "tags": [],
    "editable": false
   },
   "outputs": [],
   "source": [
    "instrument.set_parameters(enable_sample=0, n_pulses=1, integration_time=5e4)\n",
    "instrument.settings(output_path=\"SANS_without_sample_1_pulse\")\n",
    "\n",
    "background_data = instrument.backengine()\n",
    "background_data"
   ]
  },
  {
   "cell_type": "code",
   "execution_count": null,
   "id": "interesting-processing",
   "metadata": {
    "slideshow": {
     "slide_type": ""
    },
    "tags": [],
    "editable": false
   },
   "outputs": [],
   "source": [
    "ms.make_plot(background_data, figsize=(7, 5), log=True, orders_of_mag=5)"
   ]
  },
  {
   "cell_type": "markdown",
   "id": "satisfactory-october",
   "metadata": {
    "slideshow": {
     "slide_type": ""
    },
    "tags": [],
    "editable": false
   },
   "source": [
    "Do you see an improvement compared to earlier results?\n",
    "- A: Yes\n",
    "- B: No"
   ]
  },
  {
   "cell_type": "code",
   "execution_count": null,
   "id": "cardiac-boulder",
   "metadata": {
    "slideshow": {
     "slide_type": ""
    },
    "tags": [
     "hide-output"
    ],
    "editable": false
   },
   "outputs": [],
   "source": [
    "quiz.question_9()"
   ]
  },
  {
   "cell_type": "markdown",
   "id": "empty-addiction",
   "metadata": {
    "slideshow": {
     "slide_type": ""
    },
    "tags": [],
    "editable": false
   },
   "source": [
    "## Run with sample\n",
    "\n",
    "Now the sample can be added by setting the `enable_sample` parameter to one and calling the `backengine` method again. Here the integration time should be smaller, 500 s, as this run correspond to one of many measurements of different samples. Save the data in a variable called `sample_data` and use the settings method to provide a reasonable name to the run."
   ]
  },
  {
   "cell_type": "code",
   "execution_count": null,
   "id": "straight-border",
   "metadata": {
    "slideshow": {
     "slide_type": ""
    },
    "tags": [
     "workbook"
    ]
   },
   "outputs": [],
   "source": [
    "# Insert your solution:\n"
   ]
  },
  {
   "cell_type": "code",
   "execution_count": null,
   "id": "exempt-instrument",
   "metadata": {
    "slideshow": {
     "slide_type": ""
    },
    "tags": [],
    "editable": false
   },
   "outputs": [],
   "source": [
    "ms.make_plot(sample_data, figsize=(7, 5), log=True, orders_of_mag=10)"
   ]
  },
  {
   "cell_type": "markdown",
   "id": "objective-cholesterol",
   "metadata": {
    "slideshow": {
     "slide_type": ""
    },
    "tags": [],
    "editable": false
   },
   "source": [
    "Compare the results with and without sample. Where on the detector is the difference largest?\n",
    "- A: Lowest part of the detector\n",
    "- B: Middle of the detector\n",
    "- C: Top of the detector"
   ]
  },
  {
   "cell_type": "code",
   "execution_count": null,
   "id": "cultural-spanking",
   "metadata": {
    "tags": [
     "hide-output"
    ],
    "editable": false
   },
   "outputs": [],
   "source": [
    "quiz.question_10()"
   ]
  },
  {
   "cell_type": "markdown",
   "id": "ae47e2fa-8fcd-4e53-8280-1a559557226b",
   "metadata": {
    "slideshow": {
     "slide_type": ""
    },
    "tags": [],
    "editable": false
   },
   "source": [
    "## Increase the number of pulses\n",
    "\n",
    "Your final task is to re-run the simulations with and without sample,\n",
    "using 3 pulses instead of 1. Set integration time to 5E4 when running without sample and 500 when running with sample. We will use this data in the exercises for the rest of the week.\n",
    "\n",
    "**Hints:**\n",
    "\n",
    "- Change the destination folder so that you don't overwrite the results from the 1-pulse simulations.\n",
    "- Remember to adjust the `ncount` accordingly, we would like 3 times more rays now that we use 3 pulses."
   ]
  },
  {
   "cell_type": "code",
   "execution_count": null,
   "id": "809edf30-91e3-413f-82cd-627366648244",
   "metadata": {
    "slideshow": {
     "slide_type": ""
    },
    "tags": [
     "workbook"
    ]
   },
   "outputs": [],
   "source": [
    "# Insert your solution:\n"
   ]
  }
 ],
 "metadata": {
  "celltoolbar": "Tags",
  "kernelspec": {
   "display_name": "Python 3 (ipykernel)",
   "language": "python",
   "name": "python3"
  },
  "language_info": {
   "codemirror_mode": {
    "name": "ipython",
    "version": 3
   },
   "file_extension": ".py",
   "mimetype": "text/x-python",
   "name": "python",
   "nbconvert_exporter": "python",
   "pygments_lexer": "ipython3",
   "version": "3.9.13"
  }
 },
 "nbformat": 4,
 "nbformat_minor": 5
}
