{
 "cells": [
  {
   "cell_type": "code",
   "execution_count": null,
   "metadata": {
    "editable": false
   },
   "outputs": [],
   "source": [
    "import numpy as np\n",
    "from scipy.stats import norm\n",
    "import matplotlib.pyplot as plt"
   ]
  },
  {
   "cell_type": "code",
   "execution_count": null,
   "metadata": {
    "editable": false
   },
   "outputs": [],
   "source": [
    "true = 12\n",
    "np.random.seed(1)"
   ]
  },
  {
   "cell_type": "code",
   "execution_count": null,
   "metadata": {
    "editable": false
   },
   "outputs": [],
   "source": [
    "mu = 10.4; sigma = 1.6"
   ]
  },
  {
   "cell_type": "code",
   "execution_count": null,
   "metadata": {
    "editable": false
   },
   "outputs": [],
   "source": [
    "n = norm(mu, sigma)"
   ]
  },
  {
   "cell_type": "code",
   "execution_count": null,
   "metadata": {
    "editable": false
   },
   "outputs": [],
   "source": [
    "x = np.linspace(mu - 4 * sigma, mu + 4 * sigma, 1000)"
   ]
  },
  {
   "cell_type": "code",
   "execution_count": null,
   "metadata": {
    "editable": false
   },
   "outputs": [],
   "source": [
    "plt.subplots(figsize=(5,3))\n",
    "plt.plot(x, n.pdf(x))\n",
    "plt.ylim(0, None)\n",
    "plt.xlim(x.min(), x.max())\n",
    "plt.xlabel('$x$')\n",
    "plt.ylabel('$p(x)$')\n",
    "plt.tight_layout()\n",
    "plt.savefig('./images/normal.png', dpi=600)"
   ]
  },
  {
   "cell_type": "code",
   "execution_count": null,
   "metadata": {
    "editable": false
   },
   "outputs": [],
   "source": [
    "x = np.linspace(mu - 4 * sigma, mu + 4 * sigma, 1000)\n",
    "plt.subplots(figsize=(5,3))\n",
    "plt.plot(x, n.pdf(x))\n",
    "plt.plot(3.22490293 ** 2, n.pdf(3.22490293 ** 2), 'ro')\n",
    "plt.ylim(0, None)\n",
    "plt.xlim(x.min(), x.max())\n",
    "plt.xlabel('$x$')\n",
    "plt.ylabel('$p(x)$')\n",
    "plt.tight_layout()\n",
    "plt.savefig('./images/normal_fit.png', dpi=600)"
   ]
  },
  {
   "cell_type": "code",
   "execution_count": null,
   "metadata": {
    "editable": false
   },
   "outputs": [],
   "source": [
    "x = np.linspace(1, 10, 5)\n",
    "y = 4.1 * x + 2.3\n",
    "y_noise = np.random.randn(x.size) * 2\n",
    "\n",
    "y += y_noise\n",
    "dy = np.abs(np.random.randn() * 2)"
   ]
  },
  {
   "cell_type": "code",
   "execution_count": null,
   "metadata": {
    "editable": false
   },
   "outputs": [],
   "source": [
    "# x = np.linspace(mu - 4 * sigma, mu + 4 * sigma, 1000)\n",
    "fig, ax = plt.subplots(1, 2, figsize=(10,3))\n",
    "\n",
    "ax[0].errorbar(x, y, dy, marker='.', ls='')\n",
    "ax[0].set_ylim(0, None)\n",
    "ax[0].set_xlabel('$x$')\n",
    "ax[0].set_ylabel('$y$')\n",
    "\n",
    "y_range = np.arange(-5, 60, 0.1)\n",
    "for i, yy in enumerate(y):\n",
    "    ax[1].fill_between(y_range, norm(yy, dy).pdf(y_range), color='b', alpha=0.08 * (i + 1), lw=0)\n",
    "ax[1].set_xlim(y_range.min(), y_range.max())\n",
    "ax[1].set_ylim(0, None)\n",
    "ax[1].set_xlabel('$y$')\n",
    "ax[1].set_ylabel('$p(y)$')\n",
    "plt.tight_layout()\n",
    "plt.savefig('./images/multid.png', dpi=600)"
   ]
  },
  {
   "cell_type": "code",
   "execution_count": null,
   "metadata": {
    "editable": false
   },
   "outputs": [],
   "source": [
    "from scipy.stats import linregress\n",
    "\n",
    "result = linregress(x, y)"
   ]
  },
  {
   "cell_type": "code",
   "execution_count": null,
   "metadata": {
    "editable": false
   },
   "outputs": [],
   "source": [
    "result"
   ]
  },
  {
   "cell_type": "code",
   "execution_count": null,
   "metadata": {
    "editable": false
   },
   "outputs": [],
   "source": [
    "fig, ax = plt.subplots(1, 2, figsize=(10,3))\n",
    "\n",
    "ax[0].errorbar(x, y, dy, marker='.', ls='')\n",
    "ax[0].plot(x, x * result.slope + result.intercept, 'g-')\n",
    "ax[0].set_ylim(0, None)\n",
    "ax[0].set_xlabel('$x$')\n",
    "ax[0].set_ylabel('$y$')\n",
    "\n",
    "y_range = np.arange(-5, 60, 0.1)\n",
    "for i, yy in enumerate(y):\n",
    "    ax[1].fill_between(y_range, norm(yy, dy).pdf(y_range), color='b', alpha=0.08 * (i + 1), lw=0)\n",
    "    ax[1].plot(x[i] * result.slope + result.intercept, norm(yy, dy).pdf(x[i] * result.slope + result.intercept), 'go')\n",
    "ax[1].set_xlim(y_range.min(), y_range.max())\n",
    "ax[1].set_ylim(0, None)\n",
    "ax[1].set_xlabel('$y$')\n",
    "ax[1].set_ylabel('$p(y)$')\n",
    "plt.tight_layout()\n",
    "plt.savefig('./images/multid_fit.png', dpi=600)"
   ]
  },
  {
   "cell_type": "code",
   "execution_count": null,
   "metadata": {
    "editable": false
   },
   "outputs": [],
   "source": [
    "from scipy.stats import uniform"
   ]
  },
  {
   "cell_type": "code",
   "execution_count": null,
   "metadata": {
    "editable": false
   },
   "outputs": [],
   "source": [
    "x = np.linspace(-2, 12, 1000)\n",
    "plt.subplots(figsize=(5,3))\n",
    "u = uniform(loc=0, scale=10)\n",
    "plt.plot(x, u.pdf(x))\n",
    "plt.ylim(0, None)\n",
    "plt.xlim(x.min(), x.max())\n",
    "plt.xlabel('$b$')\n",
    "plt.ylabel('$p(b)$')\n",
    "plt.tight_layout()\n",
    "plt.savefig('./images/uniform.png', dpi=600)"
   ]
  },
  {
   "cell_type": "code",
   "execution_count": null,
   "metadata": {
    "editable": false
   },
   "outputs": [],
   "source": []
  }
 ],
 "metadata": {
  "kernelspec": {
   "display_name": "summer-school",
   "language": "python",
   "name": "python3"
  },
  "language_info": {
   "codemirror_mode": {
    "name": "ipython",
    "version": 3
   },
   "file_extension": ".py",
   "mimetype": "text/x-python",
   "name": "python",
   "nbconvert_exporter": "python",
   "pygments_lexer": "ipython3",
   "version": "3.10.12"
  },
  "orig_nbformat": 4
 },
 "nbformat": 4,
 "nbformat_minor": 2
}
