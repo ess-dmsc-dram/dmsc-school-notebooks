{
 "cells": [
  {
   "cell_type": "markdown",
   "metadata": {
    "editable": true,
    "slideshow": {
     "slide_type": ""
    },
    "tags": []
   },
   "source": [
    "# Fitting QENS data\n",
    "\n",
    "Previously, some quasi-elastic neutron scattering (QENS) data has been [simulated](./../3-mcstas/QENS_from_function.ipynb) and [reduced](./../4-scipp/qens-reduction.ipynb) and can now be analysed with `easyCore`. \n",
    "Before the analysis can begin, it is necessary to load the experimental data and check that it looks reasonable. \n",
    "The data can be loaded with `np.loadtxt` as the data has been stored in a simple space-separated column file."
   ]
  },
  {
   "cell_type": "code",
   "execution_count": null,
   "metadata": {
    "editable": true,
    "slideshow": {
     "slide_type": ""
    },
    "tags": []
   },
   "outputs": [],
   "source": [
    "import numpy as np\n",
    "\n",
    "qens_data = np.loadtxt('../4-reduction/qens_energy_transfer_unknown_quasi_elastic_3_pulse.dat', unpack=True)"
   ]
  },
  {
   "cell_type": "markdown",
   "metadata": {
    "editable": true,
    "slideshow": {
     "slide_type": ""
    },
    "tags": []
   },
   "source": [
    "With the data read in, we can produce a quick plot. "
   ]
  },
  {
   "cell_type": "code",
   "execution_count": null,
   "metadata": {
    "editable": true,
    "slideshow": {
     "slide_type": ""
    },
    "tags": []
   },
   "outputs": [],
   "source": [
    "import matplotlib.pyplot as plt\n",
    "\n",
    "plt.errorbar(*qens_data)\n",
    "plt.xlabel('$\\omega$/meV')\n",
    "plt.ylabel('$I(\\omega)$')\n",
    "plt.show()"
   ]
  },
  {
   "cell_type": "markdown",
   "metadata": {
    "editable": true,
    "slideshow": {
     "slide_type": ""
    },
    "tags": []
   },
   "source": [
    "The QENS data covers a slightly broader range than we want to investigate.\n",
    "Therefore, we will crop the data so that we are only using points between -0.04 and 0.04 meV. "
   ]
  },
  {
   "cell_type": "code",
   "execution_count": null,
   "metadata": {
    "editable": true,
    "slideshow": {
     "slide_type": ""
    },
    "tags": []
   },
   "outputs": [],
   "source": [
    "q, i, di = qens_data[:, np.where((qens_data[0] > -0.06) & (qens_data[0] < 0.06))[0]]"
   ]
  },
  {
   "cell_type": "markdown",
   "metadata": {
    "editable": true,
    "slideshow": {
     "slide_type": ""
    },
    "tags": []
   },
   "source": [
    "We now want to consider the mathematical model to be used in the analysis. \n",
    "QENS data is typically analysed with by fitting a Lorentzian function to the data, which has the functional form\n",
    "\n",
    "$$\n",
    "I(\\omega) = \\frac{A\\tau}{\\pi\\big[(\\omega - \\omega_0) ^ 2 + \\tau ^ 2\\big]},\n",
    "$$ (lorentzian)\n",
    "\n",
    "where $A$ is a scale factor, $\\tau$ is the half-width at half-maximum, and $\\omega_0$ is the centre offset. \n",
    "\n",
    "```{admonition} Task\n",
    ":class: important\n",
    "Write a function that implements Eqn. {eq}`lorentzian`, called `lorentzian`. \n",
    "```\n",
    "\n",
    "<i class=\"fa-solid fa-bell\"></i> **Click below to show code solution**"
   ]
  },
  {
   "cell_type": "code",
   "execution_count": null,
   "metadata": {},
   "outputs": [],
   "source": [
    "# Insert your solution:\n"
   ]
  },
  {
   "cell_type": "markdown",
   "metadata": {
    "editable": true,
    "slideshow": {
     "slide_type": ""
    },
    "tags": []
   },
   "source": [
    "The Lorentzian function is then typically convolved with a Gaussian distribution that is centred at zero with some known width, $\\sigma$. \n",
    "For this project, we will model $\\sigma$."
   ]
  },
  {
   "cell_type": "code",
   "execution_count": null,
   "metadata": {
    "editable": true,
    "slideshow": {
     "slide_type": ""
    },
    "tags": []
   },
   "outputs": [],
   "source": [
    "from scipy.stats import norm\n",
    "\n",
    "def intensity(omega):\n",
    "    \"\"\"\n",
    "    The convolution of a Gaussian and the Lorentzian.\n",
    "    \n",
    "    :omega: the energy transfer values to calculate over.\n",
    "\n",
    "    :return: intensity values.\n",
    "    \"\"\"\n",
    "    gauss = norm(0, sigma.raw_value).pdf(omega)\n",
    "    gauss /= gauss.sum()\n",
    "    return np.convolve(lorentzian(omega), gauss, 'same')"
   ]
  },
  {
   "cell_type": "markdown",
   "metadata": {
    "editable": true,
    "slideshow": {
     "slide_type": ""
    },
    "tags": []
   },
   "source": [
    "This means that there are a total of four parameters in our model. \n",
    "\n",
    "```{admonition} Task\n",
    ":class: important\n",
    "Create four `Parameter` objects, for $A$, $\\tau$, $\\omega_0$, and $\\sigma$. \n",
    "Each should have an initial value and a uniform prior distribution, based on the values given in {numref}`qens-parameters`.\n",
    "```\n",
    "\n",
    "```{list-table} Parameter values for the spherical model.\n",
    ":name: qens-parameters\n",
    ":header-rows: 1\n",
    ":align: center\n",
    "\n",
    "* - Parameter\n",
    "  - Initial Value\n",
    "  - Min\n",
    "  - Max\n",
    "* - $A$\n",
    "  - 10\n",
    "  - 1\n",
    "  - 100\n",
    "* - $\\tau$\n",
    "  - 8.0 &times; 10<sup>-3</sup>\n",
    "  - 1.0 &times; 10<sup>-4</sup>\n",
    "  - 1.0 &times; 10<sup>-2</sup>\n",
    "* - $\\omega_0$\n",
    "  - 1.0 &times; 10<sup>-3</sup>\n",
    "  - 0\n",
    "  - 2.0 &times; 10<sup>-3</sup>\n",
    "* - $\\sigma$\n",
    "  - 1.0 &times; 10<sup>-3</sup>\n",
    "  - 1.0 &times; 10<sup>-5</sup>\n",
    "  - 1.0 &times; 10<sup>-1</sup>\n",
    "```\n",
    "\n",
    "<i class=\"fa-solid fa-bell\"></i> **Click below to show code solution**"
   ]
  },
  {
   "cell_type": "code",
   "execution_count": null,
   "metadata": {},
   "outputs": [],
   "source": [
    "# Insert your solution:\n"
   ]
  },
  {
   "cell_type": "markdown",
   "metadata": {
    "editable": true,
    "slideshow": {
     "slide_type": ""
    },
    "tags": []
   },
   "source": [
    "It is now possible to compare our model at the initial estimates to the simulated data. "
   ]
  },
  {
   "cell_type": "code",
   "execution_count": null,
   "metadata": {
    "editable": true,
    "slideshow": {
     "slide_type": ""
    },
    "tags": []
   },
   "outputs": [],
   "source": [
    "plt.errorbar(q, i, di, marker='.', ls='', color='k')\n",
    "plt.plot(q, intensity(q), '-')\n",
    "plt.xlabel('$\\omega$/meV')\n",
    "plt.ylabel('$I(\\omega)$')\n",
    "plt.show()"
   ]
  },
  {
   "cell_type": "markdown",
   "metadata": {
    "editable": true,
    "slideshow": {
     "slide_type": ""
    },
    "tags": []
   },
   "source": [
    "```{admonition} Task\n",
    ":class: important\n",
    "Using `easyCore` obtain maximum likelihood estimates for the four parameters of the model from comparison with the data.\n",
    "```\n",
    "\n",
    "<i class=\"fa-solid fa-bell\"></i> **Click below to show code solution**"
   ]
  },
  {
   "cell_type": "code",
   "execution_count": null,
   "metadata": {},
   "outputs": [],
   "source": [
    "# Insert your solution:\n"
   ]
  },
  {
   "cell_type": "markdown",
   "metadata": {
    "editable": true,
    "slideshow": {
     "slide_type": ""
    },
    "tags": []
   },
   "source": [
    "We can then plot the model and the data together as before and print the values of the parameters along with their uncertainties. "
   ]
  },
  {
   "cell_type": "code",
   "execution_count": null,
   "metadata": {
    "editable": true,
    "slideshow": {
     "slide_type": ""
    },
    "tags": []
   },
   "outputs": [],
   "source": [
    "plt.errorbar(q, i, di, marker='.', ls='', color='k')\n",
    "plt.plot(q, intensity(q), '-')\n",
    "plt.xlabel('$x$')\n",
    "plt.ylabel('$y$')\n",
    "plt.show()"
   ]
  },
  {
   "cell_type": "code",
   "execution_count": null,
   "metadata": {
    "editable": true,
    "slideshow": {
     "slide_type": ""
    },
    "tags": []
   },
   "outputs": [],
   "source": [
    "A.value"
   ]
  },
  {
   "cell_type": "code",
   "execution_count": null,
   "metadata": {
    "editable": true,
    "slideshow": {
     "slide_type": ""
    },
    "tags": []
   },
   "outputs": [],
   "source": [
    "tau.value"
   ]
  },
  {
   "cell_type": "code",
   "execution_count": null,
   "metadata": {
    "editable": true,
    "slideshow": {
     "slide_type": ""
    },
    "tags": []
   },
   "outputs": [],
   "source": [
    "omega_0.value"
   ]
  },
  {
   "cell_type": "code",
   "execution_count": null,
   "metadata": {
    "editable": true,
    "slideshow": {
     "slide_type": ""
    },
    "tags": []
   },
   "outputs": [],
   "source": [
    "sigma.value"
   ]
  }
 ],
 "metadata": {
  "kernelspec": {
   "display_name": "Python 3 (ipykernel)",
   "language": "python",
   "name": "python3"
  },
  "language_info": {
   "codemirror_mode": {
    "name": "ipython",
    "version": 3
   },
   "file_extension": ".py",
   "mimetype": "text/x-python",
   "name": "python",
   "nbconvert_exporter": "python",
   "pygments_lexer": "ipython3",
   "version": "3.11.3"
  }
 },
 "nbformat": 4,
 "nbformat_minor": 4
}
